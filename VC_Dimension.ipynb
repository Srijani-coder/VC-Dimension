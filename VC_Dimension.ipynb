{
  "nbformat": 4,
  "nbformat_minor": 0,
  "metadata": {
    "colab": {
      "provenance": []
    },
    "kernelspec": {
      "name": "python3",
      "display_name": "Python 3"
    },
    "language_info": {
      "name": "python"
    }
  },
  "cells": [
    {
      "cell_type": "code",
      "execution_count": 2,
      "metadata": {
        "id": "d0S8UFM_5qbm"
      },
      "outputs": [],
      "source": [
        "# imported libraries\n",
        "import os\n",
        "import email\n",
        "import csv\n",
        "import pandas as pd\n"
      ]
    },
    {
      "cell_type": "code",
      "source": [
        "# loading google drive\n",
        "from google.colab import drive\n",
        "\n",
        "# Mount Google Drive\n",
        "drive.mount('/content/drive')\n",
        "\n"
      ],
      "metadata": {
        "colab": {
          "base_uri": "https://localhost:8080/"
        },
        "id": "GYhDf8aUF7Dh",
        "outputId": "980afad5-797e-450f-96e6-782f377afeb6"
      },
      "execution_count": 3,
      "outputs": [
        {
          "output_type": "stream",
          "name": "stdout",
          "text": [
            "Mounted at /content/drive\n"
          ]
        }
      ]
    },
    {
      "cell_type": "code",
      "source": [
        "# spam and not spam directories containing EML files are loading\n",
        "spam_dir = \"/content/drive/MyDrive/emiproject/Spam\"\n",
        "not_spam_dir = \"/content/drive/MyDrive/emiproject/Not_Spam\"\n"
      ],
      "metadata": {
        "id": "AbKVMuFyF85g"
      },
      "execution_count": 4,
      "outputs": []
    },
    {
      "cell_type": "markdown",
      "source": [
        "I want to load 47 samples of spam emails files and 47 of non-spam emails. Out of them , a csv dataset is to be  created in which spam emails are labelled as 0 and non-spams are 1. Primarily there are two features in dataset, \"email_text\" and \"subject\" from EML files."
      ],
      "metadata": {
        "id": "_rdp8GxmXfAw"
      }
    },
    {
      "cell_type": "code",
      "source": [
        "samples = [] # empty list of samples\n",
        "\n"
      ],
      "metadata": {
        "id": "EboU-o3ZI88O"
      },
      "execution_count": 5,
      "outputs": []
    },
    {
      "cell_type": "code",
      "source": [
        "# Defining a python function to extract subject and email body and appending it in the list of samples with labelling\n",
        "def decode_email(file_path, max_chars=200):\n",
        "    \"\"\"\n",
        "    Decode an email from a file with error handling and metadata extraction.\n",
        "\n",
        "    Parameters:\n",
        "    file_path (str): Path to the email file.\n",
        "    max_chars (int): Maximum number of characters to read from the email body.\n",
        "\n",
        "    Returns:\n",
        "    (str, str, str): Email subject, email body (up to max_chars characters), and label.\n",
        "    \"\"\"\n",
        "    try:\n",
        "        with open(file_path, \"r\", encoding=\"latin-1\") as file:  # Open in text mode with latin-1 encoding\n",
        "            msg = email.message_from_file(file)\n",
        "            subject = msg.get(\"Subject\", \"No Subject\")\n",
        "            email_text = msg.get_payload(decode=True).decode(\"utf-8\", errors=\"ignore\")[:max_chars]\n",
        "            return subject, email_text\n",
        "    except Exception as e:\n",
        "        return  \"Error_Sub\",\"Error\"\n",
        "\n",
        "\n",
        "\n",
        "spam_dir = \"/content/drive/MyDrive/emiproject/Spam\"\n",
        "not_spam_dir = \"/content/drive/MyDrive/emiproject/Not_Spam\"\n",
        "\n",
        "# Collect 40 spam samples\n",
        "for filename in os.listdir(spam_dir)[:47]:\n",
        "    subject, email_text = decode_email(os.path.join(spam_dir, filename))\n",
        "    label = 0\n",
        "    samples.append((subject, email_text, label))\n",
        "\n",
        "# Collect 40 not spam samples\n",
        "for filename in os.listdir(not_spam_dir)[:47]:\n",
        "    subject, email_text = decode_email(os.path.join(not_spam_dir, filename))\n",
        "    label = 1\n",
        "    samples.append((subject, email_text, label))\n",
        "\n",
        "\n"
      ],
      "metadata": {
        "id": "6WdoiK7xON7f"
      },
      "execution_count": 78,
      "outputs": []
    },
    {
      "cell_type": "code",
      "source": [
        "# Creating CSV dataset\n",
        "with open(\"email_dataset.csv\", \"w\", newline=\"\") as csv_file:\n",
        "    writer = csv.writer(csv_file)\n",
        "    writer.writerow([\"subject\", \"text\", \"label\"])\n",
        "    for sample in samples:\n",
        "        writer.writerow(sample)"
      ],
      "metadata": {
        "id": "VeDrYfkzPXzY"
      },
      "execution_count": 79,
      "outputs": []
    },
    {
      "cell_type": "code",
      "source": [
        "# Let's create a dataframe out of it\n",
        "email_df = pd.read_csv(\"/content/email_dataset.csv\")"
      ],
      "metadata": {
        "id": "ASiDLPSrP2sF"
      },
      "execution_count": 80,
      "outputs": []
    },
    {
      "cell_type": "code",
      "source": [
        "# Counting the rows with label '1'\n",
        "count_label_1 = (email_df['label'] == 1).sum()\n",
        "\n",
        "# Counting the rows with label '0'\n",
        "count_label_0 = (email_df['label'] == 0).sum()\n",
        "\n",
        "print(\"Count of rows with label '1':\", count_label_1)\n",
        "print(\"Count of rows with label '0':\", count_label_0)"
      ],
      "metadata": {
        "colab": {
          "base_uri": "https://localhost:8080/"
        },
        "id": "yhhN7BhyRPeZ",
        "outputId": "ff8c3457-186f-47e9-f0eb-8ec027addf31"
      },
      "execution_count": 82,
      "outputs": [
        {
          "output_type": "stream",
          "name": "stdout",
          "text": [
            "Count of rows with label '1': 94\n",
            "Count of rows with label '0': 94\n"
          ]
        }
      ]
    },
    {
      "cell_type": "code",
      "source": [
        "email_df.head(5)"
      ],
      "metadata": {
        "colab": {
          "base_uri": "https://localhost:8080/",
          "height": 223
        },
        "id": "PBsto0MQU5xz",
        "outputId": "09b1130f-cfb4-4833-c4f1-8803039bb860"
      },
      "execution_count": 83,
      "outputs": [
        {
          "output_type": "execute_result",
          "data": {
            "text/plain": [
              "                                             subject  \\\n",
              "0  =?UTF-8?Q?=F0=9F=8C=B3=E2=9C=A8=20Navrati=20Tr...   \n",
              "1                                          Error_Sub   \n",
              "2                                          Error_Sub   \n",
              "3                                          Error_Sub   \n",
              "4                                          Error_Sub   \n",
              "\n",
              "                                                text  label  \n",
              "0  <!DOCTYPE html><html xmlns:v=\"urn:schemas-micr...      0  \n",
              "1                                              Error      0  \n",
              "2                                              Error      0  \n",
              "3                                              Error      0  \n",
              "4                                              Error      0  "
            ],
            "text/html": [
              "\n",
              "  <div id=\"df-36f67918-380f-4168-9c74-1c501253435f\" class=\"colab-df-container\">\n",
              "    <div>\n",
              "<style scoped>\n",
              "    .dataframe tbody tr th:only-of-type {\n",
              "        vertical-align: middle;\n",
              "    }\n",
              "\n",
              "    .dataframe tbody tr th {\n",
              "        vertical-align: top;\n",
              "    }\n",
              "\n",
              "    .dataframe thead th {\n",
              "        text-align: right;\n",
              "    }\n",
              "</style>\n",
              "<table border=\"1\" class=\"dataframe\">\n",
              "  <thead>\n",
              "    <tr style=\"text-align: right;\">\n",
              "      <th></th>\n",
              "      <th>subject</th>\n",
              "      <th>text</th>\n",
              "      <th>label</th>\n",
              "    </tr>\n",
              "  </thead>\n",
              "  <tbody>\n",
              "    <tr>\n",
              "      <th>0</th>\n",
              "      <td>=?UTF-8?Q?=F0=9F=8C=B3=E2=9C=A8=20Navrati=20Tr...</td>\n",
              "      <td>&lt;!DOCTYPE html&gt;&lt;html xmlns:v=\"urn:schemas-micr...</td>\n",
              "      <td>0</td>\n",
              "    </tr>\n",
              "    <tr>\n",
              "      <th>1</th>\n",
              "      <td>Error_Sub</td>\n",
              "      <td>Error</td>\n",
              "      <td>0</td>\n",
              "    </tr>\n",
              "    <tr>\n",
              "      <th>2</th>\n",
              "      <td>Error_Sub</td>\n",
              "      <td>Error</td>\n",
              "      <td>0</td>\n",
              "    </tr>\n",
              "    <tr>\n",
              "      <th>3</th>\n",
              "      <td>Error_Sub</td>\n",
              "      <td>Error</td>\n",
              "      <td>0</td>\n",
              "    </tr>\n",
              "    <tr>\n",
              "      <th>4</th>\n",
              "      <td>Error_Sub</td>\n",
              "      <td>Error</td>\n",
              "      <td>0</td>\n",
              "    </tr>\n",
              "  </tbody>\n",
              "</table>\n",
              "</div>\n",
              "    <div class=\"colab-df-buttons\">\n",
              "\n",
              "  <div class=\"colab-df-container\">\n",
              "    <button class=\"colab-df-convert\" onclick=\"convertToInteractive('df-36f67918-380f-4168-9c74-1c501253435f')\"\n",
              "            title=\"Convert this dataframe to an interactive table.\"\n",
              "            style=\"display:none;\">\n",
              "\n",
              "  <svg xmlns=\"http://www.w3.org/2000/svg\" height=\"24px\" viewBox=\"0 -960 960 960\">\n",
              "    <path d=\"M120-120v-720h720v720H120Zm60-500h600v-160H180v160Zm220 220h160v-160H400v160Zm0 220h160v-160H400v160ZM180-400h160v-160H180v160Zm440 0h160v-160H620v160ZM180-180h160v-160H180v160Zm440 0h160v-160H620v160Z\"/>\n",
              "  </svg>\n",
              "    </button>\n",
              "\n",
              "  <style>\n",
              "    .colab-df-container {\n",
              "      display:flex;\n",
              "      gap: 12px;\n",
              "    }\n",
              "\n",
              "    .colab-df-convert {\n",
              "      background-color: #E8F0FE;\n",
              "      border: none;\n",
              "      border-radius: 50%;\n",
              "      cursor: pointer;\n",
              "      display: none;\n",
              "      fill: #1967D2;\n",
              "      height: 32px;\n",
              "      padding: 0 0 0 0;\n",
              "      width: 32px;\n",
              "    }\n",
              "\n",
              "    .colab-df-convert:hover {\n",
              "      background-color: #E2EBFA;\n",
              "      box-shadow: 0px 1px 2px rgba(60, 64, 67, 0.3), 0px 1px 3px 1px rgba(60, 64, 67, 0.15);\n",
              "      fill: #174EA6;\n",
              "    }\n",
              "\n",
              "    .colab-df-buttons div {\n",
              "      margin-bottom: 4px;\n",
              "    }\n",
              "\n",
              "    [theme=dark] .colab-df-convert {\n",
              "      background-color: #3B4455;\n",
              "      fill: #D2E3FC;\n",
              "    }\n",
              "\n",
              "    [theme=dark] .colab-df-convert:hover {\n",
              "      background-color: #434B5C;\n",
              "      box-shadow: 0px 1px 3px 1px rgba(0, 0, 0, 0.15);\n",
              "      filter: drop-shadow(0px 1px 2px rgba(0, 0, 0, 0.3));\n",
              "      fill: #FFFFFF;\n",
              "    }\n",
              "  </style>\n",
              "\n",
              "    <script>\n",
              "      const buttonEl =\n",
              "        document.querySelector('#df-36f67918-380f-4168-9c74-1c501253435f button.colab-df-convert');\n",
              "      buttonEl.style.display =\n",
              "        google.colab.kernel.accessAllowed ? 'block' : 'none';\n",
              "\n",
              "      async function convertToInteractive(key) {\n",
              "        const element = document.querySelector('#df-36f67918-380f-4168-9c74-1c501253435f');\n",
              "        const dataTable =\n",
              "          await google.colab.kernel.invokeFunction('convertToInteractive',\n",
              "                                                    [key], {});\n",
              "        if (!dataTable) return;\n",
              "\n",
              "        const docLinkHtml = 'Like what you see? Visit the ' +\n",
              "          '<a target=\"_blank\" href=https://colab.research.google.com/notebooks/data_table.ipynb>data table notebook</a>'\n",
              "          + ' to learn more about interactive tables.';\n",
              "        element.innerHTML = '';\n",
              "        dataTable['output_type'] = 'display_data';\n",
              "        await google.colab.output.renderOutput(dataTable, element);\n",
              "        const docLink = document.createElement('div');\n",
              "        docLink.innerHTML = docLinkHtml;\n",
              "        element.appendChild(docLink);\n",
              "      }\n",
              "    </script>\n",
              "  </div>\n",
              "\n",
              "\n",
              "<div id=\"df-ec9cb5ea-3834-4a9e-9906-7887043c090d\">\n",
              "  <button class=\"colab-df-quickchart\" onclick=\"quickchart('df-ec9cb5ea-3834-4a9e-9906-7887043c090d')\"\n",
              "            title=\"Suggest charts.\"\n",
              "            style=\"display:none;\">\n",
              "\n",
              "<svg xmlns=\"http://www.w3.org/2000/svg\" height=\"24px\"viewBox=\"0 0 24 24\"\n",
              "     width=\"24px\">\n",
              "    <g>\n",
              "        <path d=\"M19 3H5c-1.1 0-2 .9-2 2v14c0 1.1.9 2 2 2h14c1.1 0 2-.9 2-2V5c0-1.1-.9-2-2-2zM9 17H7v-7h2v7zm4 0h-2V7h2v10zm4 0h-2v-4h2v4z\"/>\n",
              "    </g>\n",
              "</svg>\n",
              "  </button>\n",
              "\n",
              "<style>\n",
              "  .colab-df-quickchart {\n",
              "      --bg-color: #E8F0FE;\n",
              "      --fill-color: #1967D2;\n",
              "      --hover-bg-color: #E2EBFA;\n",
              "      --hover-fill-color: #174EA6;\n",
              "      --disabled-fill-color: #AAA;\n",
              "      --disabled-bg-color: #DDD;\n",
              "  }\n",
              "\n",
              "  [theme=dark] .colab-df-quickchart {\n",
              "      --bg-color: #3B4455;\n",
              "      --fill-color: #D2E3FC;\n",
              "      --hover-bg-color: #434B5C;\n",
              "      --hover-fill-color: #FFFFFF;\n",
              "      --disabled-bg-color: #3B4455;\n",
              "      --disabled-fill-color: #666;\n",
              "  }\n",
              "\n",
              "  .colab-df-quickchart {\n",
              "    background-color: var(--bg-color);\n",
              "    border: none;\n",
              "    border-radius: 50%;\n",
              "    cursor: pointer;\n",
              "    display: none;\n",
              "    fill: var(--fill-color);\n",
              "    height: 32px;\n",
              "    padding: 0;\n",
              "    width: 32px;\n",
              "  }\n",
              "\n",
              "  .colab-df-quickchart:hover {\n",
              "    background-color: var(--hover-bg-color);\n",
              "    box-shadow: 0 1px 2px rgba(60, 64, 67, 0.3), 0 1px 3px 1px rgba(60, 64, 67, 0.15);\n",
              "    fill: var(--button-hover-fill-color);\n",
              "  }\n",
              "\n",
              "  .colab-df-quickchart-complete:disabled,\n",
              "  .colab-df-quickchart-complete:disabled:hover {\n",
              "    background-color: var(--disabled-bg-color);\n",
              "    fill: var(--disabled-fill-color);\n",
              "    box-shadow: none;\n",
              "  }\n",
              "\n",
              "  .colab-df-spinner {\n",
              "    border: 2px solid var(--fill-color);\n",
              "    border-color: transparent;\n",
              "    border-bottom-color: var(--fill-color);\n",
              "    animation:\n",
              "      spin 1s steps(1) infinite;\n",
              "  }\n",
              "\n",
              "  @keyframes spin {\n",
              "    0% {\n",
              "      border-color: transparent;\n",
              "      border-bottom-color: var(--fill-color);\n",
              "      border-left-color: var(--fill-color);\n",
              "    }\n",
              "    20% {\n",
              "      border-color: transparent;\n",
              "      border-left-color: var(--fill-color);\n",
              "      border-top-color: var(--fill-color);\n",
              "    }\n",
              "    30% {\n",
              "      border-color: transparent;\n",
              "      border-left-color: var(--fill-color);\n",
              "      border-top-color: var(--fill-color);\n",
              "      border-right-color: var(--fill-color);\n",
              "    }\n",
              "    40% {\n",
              "      border-color: transparent;\n",
              "      border-right-color: var(--fill-color);\n",
              "      border-top-color: var(--fill-color);\n",
              "    }\n",
              "    60% {\n",
              "      border-color: transparent;\n",
              "      border-right-color: var(--fill-color);\n",
              "    }\n",
              "    80% {\n",
              "      border-color: transparent;\n",
              "      border-right-color: var(--fill-color);\n",
              "      border-bottom-color: var(--fill-color);\n",
              "    }\n",
              "    90% {\n",
              "      border-color: transparent;\n",
              "      border-bottom-color: var(--fill-color);\n",
              "    }\n",
              "  }\n",
              "</style>\n",
              "\n",
              "  <script>\n",
              "    async function quickchart(key) {\n",
              "      const quickchartButtonEl =\n",
              "        document.querySelector('#' + key + ' button');\n",
              "      quickchartButtonEl.disabled = true;  // To prevent multiple clicks.\n",
              "      quickchartButtonEl.classList.add('colab-df-spinner');\n",
              "      try {\n",
              "        const charts = await google.colab.kernel.invokeFunction(\n",
              "            'suggestCharts', [key], {});\n",
              "      } catch (error) {\n",
              "        console.error('Error during call to suggestCharts:', error);\n",
              "      }\n",
              "      quickchartButtonEl.classList.remove('colab-df-spinner');\n",
              "      quickchartButtonEl.classList.add('colab-df-quickchart-complete');\n",
              "    }\n",
              "    (() => {\n",
              "      let quickchartButtonEl =\n",
              "        document.querySelector('#df-ec9cb5ea-3834-4a9e-9906-7887043c090d button');\n",
              "      quickchartButtonEl.style.display =\n",
              "        google.colab.kernel.accessAllowed ? 'block' : 'none';\n",
              "    })();\n",
              "  </script>\n",
              "</div>\n",
              "    </div>\n",
              "  </div>\n"
            ]
          },
          "metadata": {},
          "execution_count": 83
        }
      ]
    },
    {
      "cell_type": "code",
      "source": [
        "import pandas as pd\n",
        "import re\n",
        "\n",
        "# Drop rows with the subject \"Error_Sub\"\n",
        "tr_df = email_df[email_df['subject'] != 'Error_Sub'] # Cleaning the dataframe by removing rows containing \"Error_Sub\"\n",
        "\n"
      ],
      "metadata": {
        "id": "i8gXRQU_YbI_"
      },
      "execution_count": 86,
      "outputs": []
    },
    {
      "cell_type": "code",
      "source": [
        "tr_df.head(5)"
      ],
      "metadata": {
        "colab": {
          "base_uri": "https://localhost:8080/",
          "height": 241
        },
        "id": "S-6ehUcBZ9Y3",
        "outputId": "28b73626-4ad1-4031-9d8e-514651578955"
      },
      "execution_count": 87,
      "outputs": [
        {
          "output_type": "execute_result",
          "data": {
            "text/plain": [
              "                                              subject  \\\n",
              "0   =?UTF-8?Q?=F0=9F=8C=B3=E2=9C=A8=20Navrati=20Tr...   \n",
              "5   Black Friday is only 5 weeks away. Are you ready?   \n",
              "9                   Aluminum-free 72 hr odor control?   \n",
              "10  =?utf-8?B?Sm9pbiB1cyBmb3Igb3VyIE1hcmtldCBJbnNp...   \n",
              "13       Hey, you can make a big tech career happen!    \n",
              "\n",
              "                                                 text  label  \n",
              "0   <!DOCTYPE html><html xmlns:v=\"urn:schemas-micr...      0  \n",
              "5   <!DOCTYPE html>\\n<html xmlns:v=\"urn:schemas-mi...      0  \n",
              "9   <!DOCTYPE html>\\n<html>\\n  <head>\\n    <title>...      0  \n",
              "10  <html><!DOCTYPE HTML>\\r\\n\\r\\n        \\r\\n\\r\\n ...      0  \n",
              "13  <!doctype html><html xmlns:v=\"urn:schemas-micr...      0  "
            ],
            "text/html": [
              "\n",
              "  <div id=\"df-ec2f1671-7421-4f48-9174-89afc9209b37\" class=\"colab-df-container\">\n",
              "    <div>\n",
              "<style scoped>\n",
              "    .dataframe tbody tr th:only-of-type {\n",
              "        vertical-align: middle;\n",
              "    }\n",
              "\n",
              "    .dataframe tbody tr th {\n",
              "        vertical-align: top;\n",
              "    }\n",
              "\n",
              "    .dataframe thead th {\n",
              "        text-align: right;\n",
              "    }\n",
              "</style>\n",
              "<table border=\"1\" class=\"dataframe\">\n",
              "  <thead>\n",
              "    <tr style=\"text-align: right;\">\n",
              "      <th></th>\n",
              "      <th>subject</th>\n",
              "      <th>text</th>\n",
              "      <th>label</th>\n",
              "    </tr>\n",
              "  </thead>\n",
              "  <tbody>\n",
              "    <tr>\n",
              "      <th>0</th>\n",
              "      <td>=?UTF-8?Q?=F0=9F=8C=B3=E2=9C=A8=20Navrati=20Tr...</td>\n",
              "      <td>&lt;!DOCTYPE html&gt;&lt;html xmlns:v=\"urn:schemas-micr...</td>\n",
              "      <td>0</td>\n",
              "    </tr>\n",
              "    <tr>\n",
              "      <th>5</th>\n",
              "      <td>Black Friday is only 5 weeks away. Are you ready?</td>\n",
              "      <td>&lt;!DOCTYPE html&gt;\\n&lt;html xmlns:v=\"urn:schemas-mi...</td>\n",
              "      <td>0</td>\n",
              "    </tr>\n",
              "    <tr>\n",
              "      <th>9</th>\n",
              "      <td>Aluminum-free 72 hr odor control?</td>\n",
              "      <td>&lt;!DOCTYPE html&gt;\\n&lt;html&gt;\\n  &lt;head&gt;\\n    &lt;title&gt;...</td>\n",
              "      <td>0</td>\n",
              "    </tr>\n",
              "    <tr>\n",
              "      <th>10</th>\n",
              "      <td>=?utf-8?B?Sm9pbiB1cyBmb3Igb3VyIE1hcmtldCBJbnNp...</td>\n",
              "      <td>&lt;html&gt;&lt;!DOCTYPE HTML&gt;\\r\\n\\r\\n        \\r\\n\\r\\n ...</td>\n",
              "      <td>0</td>\n",
              "    </tr>\n",
              "    <tr>\n",
              "      <th>13</th>\n",
              "      <td>Hey, you can make a big tech career happen!</td>\n",
              "      <td>&lt;!doctype html&gt;&lt;html xmlns:v=\"urn:schemas-micr...</td>\n",
              "      <td>0</td>\n",
              "    </tr>\n",
              "  </tbody>\n",
              "</table>\n",
              "</div>\n",
              "    <div class=\"colab-df-buttons\">\n",
              "\n",
              "  <div class=\"colab-df-container\">\n",
              "    <button class=\"colab-df-convert\" onclick=\"convertToInteractive('df-ec2f1671-7421-4f48-9174-89afc9209b37')\"\n",
              "            title=\"Convert this dataframe to an interactive table.\"\n",
              "            style=\"display:none;\">\n",
              "\n",
              "  <svg xmlns=\"http://www.w3.org/2000/svg\" height=\"24px\" viewBox=\"0 -960 960 960\">\n",
              "    <path d=\"M120-120v-720h720v720H120Zm60-500h600v-160H180v160Zm220 220h160v-160H400v160Zm0 220h160v-160H400v160ZM180-400h160v-160H180v160Zm440 0h160v-160H620v160ZM180-180h160v-160H180v160Zm440 0h160v-160H620v160Z\"/>\n",
              "  </svg>\n",
              "    </button>\n",
              "\n",
              "  <style>\n",
              "    .colab-df-container {\n",
              "      display:flex;\n",
              "      gap: 12px;\n",
              "    }\n",
              "\n",
              "    .colab-df-convert {\n",
              "      background-color: #E8F0FE;\n",
              "      border: none;\n",
              "      border-radius: 50%;\n",
              "      cursor: pointer;\n",
              "      display: none;\n",
              "      fill: #1967D2;\n",
              "      height: 32px;\n",
              "      padding: 0 0 0 0;\n",
              "      width: 32px;\n",
              "    }\n",
              "\n",
              "    .colab-df-convert:hover {\n",
              "      background-color: #E2EBFA;\n",
              "      box-shadow: 0px 1px 2px rgba(60, 64, 67, 0.3), 0px 1px 3px 1px rgba(60, 64, 67, 0.15);\n",
              "      fill: #174EA6;\n",
              "    }\n",
              "\n",
              "    .colab-df-buttons div {\n",
              "      margin-bottom: 4px;\n",
              "    }\n",
              "\n",
              "    [theme=dark] .colab-df-convert {\n",
              "      background-color: #3B4455;\n",
              "      fill: #D2E3FC;\n",
              "    }\n",
              "\n",
              "    [theme=dark] .colab-df-convert:hover {\n",
              "      background-color: #434B5C;\n",
              "      box-shadow: 0px 1px 3px 1px rgba(0, 0, 0, 0.15);\n",
              "      filter: drop-shadow(0px 1px 2px rgba(0, 0, 0, 0.3));\n",
              "      fill: #FFFFFF;\n",
              "    }\n",
              "  </style>\n",
              "\n",
              "    <script>\n",
              "      const buttonEl =\n",
              "        document.querySelector('#df-ec2f1671-7421-4f48-9174-89afc9209b37 button.colab-df-convert');\n",
              "      buttonEl.style.display =\n",
              "        google.colab.kernel.accessAllowed ? 'block' : 'none';\n",
              "\n",
              "      async function convertToInteractive(key) {\n",
              "        const element = document.querySelector('#df-ec2f1671-7421-4f48-9174-89afc9209b37');\n",
              "        const dataTable =\n",
              "          await google.colab.kernel.invokeFunction('convertToInteractive',\n",
              "                                                    [key], {});\n",
              "        if (!dataTable) return;\n",
              "\n",
              "        const docLinkHtml = 'Like what you see? Visit the ' +\n",
              "          '<a target=\"_blank\" href=https://colab.research.google.com/notebooks/data_table.ipynb>data table notebook</a>'\n",
              "          + ' to learn more about interactive tables.';\n",
              "        element.innerHTML = '';\n",
              "        dataTable['output_type'] = 'display_data';\n",
              "        await google.colab.output.renderOutput(dataTable, element);\n",
              "        const docLink = document.createElement('div');\n",
              "        docLink.innerHTML = docLinkHtml;\n",
              "        element.appendChild(docLink);\n",
              "      }\n",
              "    </script>\n",
              "  </div>\n",
              "\n",
              "\n",
              "<div id=\"df-ba43b605-f2b8-4d20-8644-0bd1570c70a1\">\n",
              "  <button class=\"colab-df-quickchart\" onclick=\"quickchart('df-ba43b605-f2b8-4d20-8644-0bd1570c70a1')\"\n",
              "            title=\"Suggest charts.\"\n",
              "            style=\"display:none;\">\n",
              "\n",
              "<svg xmlns=\"http://www.w3.org/2000/svg\" height=\"24px\"viewBox=\"0 0 24 24\"\n",
              "     width=\"24px\">\n",
              "    <g>\n",
              "        <path d=\"M19 3H5c-1.1 0-2 .9-2 2v14c0 1.1.9 2 2 2h14c1.1 0 2-.9 2-2V5c0-1.1-.9-2-2-2zM9 17H7v-7h2v7zm4 0h-2V7h2v10zm4 0h-2v-4h2v4z\"/>\n",
              "    </g>\n",
              "</svg>\n",
              "  </button>\n",
              "\n",
              "<style>\n",
              "  .colab-df-quickchart {\n",
              "      --bg-color: #E8F0FE;\n",
              "      --fill-color: #1967D2;\n",
              "      --hover-bg-color: #E2EBFA;\n",
              "      --hover-fill-color: #174EA6;\n",
              "      --disabled-fill-color: #AAA;\n",
              "      --disabled-bg-color: #DDD;\n",
              "  }\n",
              "\n",
              "  [theme=dark] .colab-df-quickchart {\n",
              "      --bg-color: #3B4455;\n",
              "      --fill-color: #D2E3FC;\n",
              "      --hover-bg-color: #434B5C;\n",
              "      --hover-fill-color: #FFFFFF;\n",
              "      --disabled-bg-color: #3B4455;\n",
              "      --disabled-fill-color: #666;\n",
              "  }\n",
              "\n",
              "  .colab-df-quickchart {\n",
              "    background-color: var(--bg-color);\n",
              "    border: none;\n",
              "    border-radius: 50%;\n",
              "    cursor: pointer;\n",
              "    display: none;\n",
              "    fill: var(--fill-color);\n",
              "    height: 32px;\n",
              "    padding: 0;\n",
              "    width: 32px;\n",
              "  }\n",
              "\n",
              "  .colab-df-quickchart:hover {\n",
              "    background-color: var(--hover-bg-color);\n",
              "    box-shadow: 0 1px 2px rgba(60, 64, 67, 0.3), 0 1px 3px 1px rgba(60, 64, 67, 0.15);\n",
              "    fill: var(--button-hover-fill-color);\n",
              "  }\n",
              "\n",
              "  .colab-df-quickchart-complete:disabled,\n",
              "  .colab-df-quickchart-complete:disabled:hover {\n",
              "    background-color: var(--disabled-bg-color);\n",
              "    fill: var(--disabled-fill-color);\n",
              "    box-shadow: none;\n",
              "  }\n",
              "\n",
              "  .colab-df-spinner {\n",
              "    border: 2px solid var(--fill-color);\n",
              "    border-color: transparent;\n",
              "    border-bottom-color: var(--fill-color);\n",
              "    animation:\n",
              "      spin 1s steps(1) infinite;\n",
              "  }\n",
              "\n",
              "  @keyframes spin {\n",
              "    0% {\n",
              "      border-color: transparent;\n",
              "      border-bottom-color: var(--fill-color);\n",
              "      border-left-color: var(--fill-color);\n",
              "    }\n",
              "    20% {\n",
              "      border-color: transparent;\n",
              "      border-left-color: var(--fill-color);\n",
              "      border-top-color: var(--fill-color);\n",
              "    }\n",
              "    30% {\n",
              "      border-color: transparent;\n",
              "      border-left-color: var(--fill-color);\n",
              "      border-top-color: var(--fill-color);\n",
              "      border-right-color: var(--fill-color);\n",
              "    }\n",
              "    40% {\n",
              "      border-color: transparent;\n",
              "      border-right-color: var(--fill-color);\n",
              "      border-top-color: var(--fill-color);\n",
              "    }\n",
              "    60% {\n",
              "      border-color: transparent;\n",
              "      border-right-color: var(--fill-color);\n",
              "    }\n",
              "    80% {\n",
              "      border-color: transparent;\n",
              "      border-right-color: var(--fill-color);\n",
              "      border-bottom-color: var(--fill-color);\n",
              "    }\n",
              "    90% {\n",
              "      border-color: transparent;\n",
              "      border-bottom-color: var(--fill-color);\n",
              "    }\n",
              "  }\n",
              "</style>\n",
              "\n",
              "  <script>\n",
              "    async function quickchart(key) {\n",
              "      const quickchartButtonEl =\n",
              "        document.querySelector('#' + key + ' button');\n",
              "      quickchartButtonEl.disabled = true;  // To prevent multiple clicks.\n",
              "      quickchartButtonEl.classList.add('colab-df-spinner');\n",
              "      try {\n",
              "        const charts = await google.colab.kernel.invokeFunction(\n",
              "            'suggestCharts', [key], {});\n",
              "      } catch (error) {\n",
              "        console.error('Error during call to suggestCharts:', error);\n",
              "      }\n",
              "      quickchartButtonEl.classList.remove('colab-df-spinner');\n",
              "      quickchartButtonEl.classList.add('colab-df-quickchart-complete');\n",
              "    }\n",
              "    (() => {\n",
              "      let quickchartButtonEl =\n",
              "        document.querySelector('#df-ba43b605-f2b8-4d20-8644-0bd1570c70a1 button');\n",
              "      quickchartButtonEl.style.display =\n",
              "        google.colab.kernel.accessAllowed ? 'block' : 'none';\n",
              "    })();\n",
              "  </script>\n",
              "</div>\n",
              "    </div>\n",
              "  </div>\n"
            ]
          },
          "metadata": {},
          "execution_count": 87
        }
      ]
    },
    {
      "cell_type": "markdown",
      "source": [
        "Now it's time to see a little bit analysis. I want to know the words which are present in text of non_spam email_bodies but not present in spam email_bodies. Let's check the difference for \"subject\" and \"text\" column of our dataframe.\n",
        "**Defining a python function which will extract the \"taboo\" words for our dataset and return a list of these.**"
      ],
      "metadata": {
        "id": "KrRp_mkOcUeQ"
      }
    },
    {
      "cell_type": "code",
      "source": [
        "def make_wordiff_list(df,text_column):\n",
        "  label_1_list = []\n",
        "  label_0_list = []\n",
        "  for index, row in df.iterrows(): # Initiating loop in rows of the dataframe\n",
        "        text = row[text_column]\n",
        "        label = row[\"label\"]  # getting the value of label for each row\n",
        "        row_words = text.split(' ')\n",
        "        # Separating label 1 list of words and label 0 list of words in two lists\n",
        "        if label == 1:\n",
        "          for rw in row_words:\n",
        "            label_1_list.append(str(rw).lower())\n",
        "        elif label == 0:\n",
        "          for rw in row_words:\n",
        "            label_0_list.append(str(rw).lower())\n",
        "\n",
        "  diff_1_0 = [] # Initializing empty list of different words which are present in label_1_list and absent in label_0_list\n",
        "\n",
        "  for x in label_1_list:\n",
        "    if x not in label_0_list:\n",
        "      diff_1_0.append(x)\n",
        "\n",
        "  return diff_1_0\n",
        "\n",
        "\n"
      ],
      "metadata": {
        "id": "VMc24PSt7IsJ"
      },
      "execution_count": 88,
      "outputs": []
    },
    {
      "cell_type": "code",
      "source": [
        "# For subject column, getting the difference word list\n",
        "sub_diff = make_wordiff_list(tr_df,\"subject\")"
      ],
      "metadata": {
        "id": "s0LNMye--t4B"
      },
      "execution_count": 89,
      "outputs": []
    },
    {
      "cell_type": "code",
      "source": [
        "# For subject column, getting the difference word list\n",
        "text_diff = make_wordiff_list(tr_df,\"text\")"
      ],
      "metadata": {
        "id": "02Z_gIXk_K0m"
      },
      "execution_count": 90,
      "outputs": []
    },
    {
      "cell_type": "code",
      "source": [
        "# Defining a python function to count occurence of word in a list\n",
        "def count_word_occurrences(word, word_list):\n",
        "    count = 0\n",
        "    for item in word_list:\n",
        "        if item == word:\n",
        "            count += 1\n",
        "    return count"
      ],
      "metadata": {
        "id": "kydBAIRLAxZn"
      },
      "execution_count": 91,
      "outputs": []
    },
    {
      "cell_type": "markdown",
      "source": [
        "Now I want to make a list of frequency of words for two columns in dataframe. The python function takes dataframe, column and unique word list . Then by this function, counts of frequencies of difference word list are stored in two separate lists named after two column-names."
      ],
      "metadata": {
        "id": "gybBkdppgrK0"
      }
    },
    {
      "cell_type": "code",
      "source": [
        "def count_word_frequency(df, column, word_list):\n",
        "    # Initialize a dictionary to store word frequencies\n",
        "    sum_freq_df = []\n",
        "\n",
        "    # Iterate through the rows of the specified column\n",
        "    for index, row in df.iterrows():\n",
        "        text = row[column]\n",
        "        text = str(text)\n",
        "        text = text.split(\" \")\n",
        "        sum_count = 0\n",
        "        for word in word_list:\n",
        "          word_count = count_word_occurrences(word,text)\n",
        "          sum_count = sum_count + word_count\n",
        "        sum_freq_df.append(sum_count)\n",
        "\n",
        "    return sum_freq_df\n"
      ],
      "metadata": {
        "id": "Ch53nMrut5jX"
      },
      "execution_count": 92,
      "outputs": []
    },
    {
      "cell_type": "code",
      "source": [
        "sub_word_freq = count_word_frequency(tr_df,\"subject\",text_diff)\n"
      ],
      "metadata": {
        "id": "Rpq4fkbIwZef"
      },
      "execution_count": 96,
      "outputs": []
    },
    {
      "cell_type": "code",
      "source": [
        "text_word_freq = count_word_frequency(tr_df,\"text\",text_diff)\n",
        "print(text_word_freq)"
      ],
      "metadata": {
        "colab": {
          "base_uri": "https://localhost:8080/"
        },
        "id": "xqR3hgRE0pTI",
        "outputId": "0a5f5ef5-5499-4c5d-9fdf-f9c50377f879"
      },
      "execution_count": 59,
      "outputs": [
        {
          "output_type": "stream",
          "name": "stdout",
          "text": [
            "[0, 0, 0, 0, 0, 0, 0, 0, 0, 0, 0, 0, 0, 0, 0, 2, 4, 2, 5, 6, 2, 3, 6, 2, 3, 2]\n"
          ]
        }
      ]
    },
    {
      "cell_type": "code",
      "source": [
        "print(sub_word_freq)"
      ],
      "metadata": {
        "colab": {
          "base_uri": "https://localhost:8080/"
        },
        "id": "Q9fs289hDqSP",
        "outputId": "f30aab58-53af-4cf9-dc13-e89b586d827f"
      },
      "execution_count": 61,
      "outputs": [
        {
          "output_type": "stream",
          "name": "stdout",
          "text": [
            "[0, 0, 0, 0, 0, 0, 0, 0, 0, 0, 0, 0, 0, 0, 0, 8, 2, 6, 1, 9, 21, 4, 6, 0, 6, 19]\n"
          ]
        }
      ]
    },
    {
      "cell_type": "code",
      "source": [
        "sub_word_freq"
      ],
      "metadata": {
        "colab": {
          "base_uri": "https://localhost:8080/"
        },
        "id": "UwDM6IyR3rpP",
        "outputId": "5d4aee74-f86a-4e7b-c01f-7b7ff379e283"
      },
      "execution_count": 41,
      "outputs": [
        {
          "output_type": "execute_result",
          "data": {
            "text/plain": [
              "[5,\n",
              " 7,\n",
              " 10,\n",
              " 12,\n",
              " 12,\n",
              " 13,\n",
              " 15,\n",
              " 19,\n",
              " 21,\n",
              " 24,\n",
              " 25,\n",
              " 28,\n",
              " 31,\n",
              " 32,\n",
              " 33,\n",
              " 44,\n",
              " 56,\n",
              " 68,\n",
              " 85,\n",
              " 93,\n",
              " 116,\n",
              " 128,\n",
              " 141,\n",
              " 151,\n",
              " 161,\n",
              " 185]"
            ]
          },
          "metadata": {},
          "execution_count": 41
        }
      ]
    },
    {
      "cell_type": "code",
      "source": [
        "import matplotlib.pyplot as plt\n",
        "\n",
        "# Your data: text_word_freq and sub_word_freq\n",
        "text_word_freq = [0, 0, 0, 0, 0, 0, 0, 0, 0, 0, 0, 0, 0, 0, 0, 2, 4, 2, 5, 6, 2, 3, 6, 2, 3, 2]\n",
        "sub_word_freq = [0, 0, 0, 0, 0, 0, 0, 0, 0, 0, 0, 0, 0, 0, 0, 8, 2, 6, 1, 9, 21, 4, 6, 0, 6, 19]\n",
        "\n",
        "# Determine spam emails based on your hypothesis boundary\n",
        "spam_emails = [i for i, freq in enumerate(text_word_freq) if freq == 0]\n",
        "normal_emails = [i for i in range(len(text_word_freq)) if i not in spam_emails]\n",
        "\n"
      ],
      "metadata": {
        "id": "1KmF3Wp3HY5F"
      },
      "execution_count": 97,
      "outputs": []
    },
    {
      "cell_type": "markdown",
      "source": [
        "Now I am going to plot a scatter plot where:\n",
        "*   x = value of text_word_freq\n",
        "*   y = value of sub_word_freq + value of index\n",
        "\n",
        "So each point represents a email which is defined with these two features. There are 26 data points in our dataset."
      ],
      "metadata": {
        "id": "eRytm1tGsOX8"
      }
    },
    {
      "cell_type": "code",
      "source": [
        "# Plotting the scatter graph\n",
        "plt.figure(figsize=(10, 6))\n",
        "plt.scatter(text_word_freq, [i + j for i, j in zip(range(len(text_word_freq)), sub_word_freq)], c='b', label='Spam Emails(Negative Example)')\n",
        "plt.scatter([text_word_freq[i] for i in normal_emails], [i + sub_word_freq[i] for i in normal_emails], c='g', label='Normal Emails (Positive Examples)')\n",
        "plt.xlabel('Text Word Frequency')\n",
        "plt.ylabel('Subject Word Frequency')\n",
        "plt.legend()\n",
        "plt.title('Scatter Graph of Text Word Frequency vs. Subject Word Frequency')\n",
        "plt.show()"
      ],
      "metadata": {
        "colab": {
          "base_uri": "https://localhost:8080/",
          "height": 564
        },
        "id": "7BaeJ7hLS-gQ",
        "outputId": "cebe953d-f77a-4677-a0a9-f1de79d236c0"
      },
      "execution_count": 106,
      "outputs": [
        {
          "output_type": "display_data",
          "data": {
            "text/plain": [
              "<Figure size 1000x600 with 1 Axes>"
            ],
            "image/png": "[encoded data removed]"
          },
          "metadata": {}
        }
      ]
    },
    {
      "cell_type": "markdown",
      "source": [
        "Observing this scatter plot and data points , we are making a hypothesis to separate spam emails and normal emails. The two straight lines are taken:\n",
        "\n",
        "\n",
        "*   x = 2\n",
        "*   y = 18\n",
        "\n",
        "These straight lines are to bind the rectangular regions. Let's visualize this.\n",
        "\n"
      ],
      "metadata": {
        "id": "D3eunNjhtdtq"
      }
    },
    {
      "cell_type": "code",
      "source": [
        "# Plotting the scatter graph\n",
        "plt.figure(figsize=(10, 6))\n",
        "plt.scatter(text_word_freq, [i + j for i, j in zip(range(len(text_word_freq)), sub_word_freq)], c='b', label='Spam Emails(Negative Example)')\n",
        "plt.scatter([text_word_freq[i] for i in normal_emails], [i + sub_word_freq[i] for i in normal_emails], c='g', label='Normal Emails (Positive Examples)')\n",
        "# Draw the decision boundary lines\n",
        "plt.axhline(18, color='r', linestyle='--', label='Hypothesis Boundary (y=16)')\n",
        "plt.axvline(2, color='g', linestyle='--', label='Hypothesis Boundary (x=2)')\n",
        "plt.xlabel('Text Word Frequency')\n",
        "plt.ylabel('Subject Word Frequency')\n",
        "plt.legend()\n",
        "plt.title('Scatter Graph of Text Word Frequency vs.  Subject Word Frequency')\n",
        "plt.show()"
      ],
      "metadata": {
        "colab": {
          "base_uri": "https://localhost:8080/",
          "height": 564
        },
        "id": "T12aIq8STAWz",
        "outputId": "ec0085b1-ae01-4ecc-d31a-9f3c94c0d26f"
      },
      "execution_count": 105,
      "outputs": [
        {
          "output_type": "display_data",
          "data": {
            "text/plain": [
              "<Figure size 1000x600 with 1 Axes>"
            ],
            "image/png": "[encoded data removed]"
          },
          "metadata": {}
        }
      ]
    },
    {
      "cell_type": "markdown",
      "source": [
        "So this hypothesis is successfull to separate the spam and normal email points . These regions are divided into two rectangular regions. Also this hypothesis shatters 4 positive data points . So the VC dimension of this hypothesis is 4."
      ],
      "metadata": {
        "id": "ieS88fnAvumU"
      }
    },
    {
      "cell_type": "code",
      "source": [],
      "metadata": {
        "id": "h7jhcRrTIVSE"
      },
      "execution_count": 109,
      "outputs": []
    }
  ]
}